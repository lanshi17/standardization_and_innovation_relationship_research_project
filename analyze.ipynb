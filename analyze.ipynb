{
 "cells": [
  {
   "cell_type": "code",
   "id": "initial_id",
   "metadata": {
    "collapsed": true,
    "ExecuteTime": {
     "end_time": "2024-07-09T11:56:59.272727Z",
     "start_time": "2024-07-09T11:56:59.255654Z"
    }
   },
   "source": [
    "import pandas as pd\n",
    "import matplotlib.pyplot as plt\n",
    "import numpy as np\n",
    "import seaborn as sns\n",
    "import openpyxl\n",
    "\n",
    "# 设置支持中文显示\n",
    "plt.rcParams['font.sans-serif'] = ['SimHei']\n",
    "plt.rcParams['axes.unicode_minus'] = False\n",
    "rc = {'font.sans-serif': 'SimHei',\n",
    "      'axes.unicode_minus': False}  # 用来正常显示中文标签\n",
    "# 设置学术化的图片风格\n",
    "sns.set_style(\"whitegrid\", rc=rc)  #设置绘图风格\n",
    "sns.set_palette(\"hls\")  #设置颜色主题\n",
    "sns.set_context(\"paper\")  #设置绘图元素缩放比例\n",
    "data = pd.read_csv('data/data_raw.csv')\n",
    "data['City'] = data['City'].astype(str)\n",
    "data['Year'] = data['Year'].astype(str)\n",
    "\n",
    "data.head()"
   ],
   "outputs": [
    {
     "data": {
      "text/plain": [
       "  City        Year  STA   TIP    ECO     FDI    SDC\n",
       "0  南京市  2006-12-31   65  2566  40645  151911   59.5\n",
       "1  南京市  2007-12-31   51  3519  46306  196253   46.4\n",
       "2  南京市  2008-12-31  188  4531  51454  237203  215.4\n",
       "3  南京市  2009-12-31   89  6242  56035  239199   97.0\n",
       "4  南京市  2010-12-31  141  8637  66132  281601  101.8"
      ],
      "text/html": [
       "<div>\n",
       "<style scoped>\n",
       "    .dataframe tbody tr th:only-of-type {\n",
       "        vertical-align: middle;\n",
       "    }\n",
       "\n",
       "    .dataframe tbody tr th {\n",
       "        vertical-align: top;\n",
       "    }\n",
       "\n",
       "    .dataframe thead th {\n",
       "        text-align: right;\n",
       "    }\n",
       "</style>\n",
       "<table border=\"1\" class=\"dataframe\">\n",
       "  <thead>\n",
       "    <tr style=\"text-align: right;\">\n",
       "      <th></th>\n",
       "      <th>City</th>\n",
       "      <th>Year</th>\n",
       "      <th>STA</th>\n",
       "      <th>TIP</th>\n",
       "      <th>ECO</th>\n",
       "      <th>FDI</th>\n",
       "      <th>SDC</th>\n",
       "    </tr>\n",
       "  </thead>\n",
       "  <tbody>\n",
       "    <tr>\n",
       "      <th>0</th>\n",
       "      <td>南京市</td>\n",
       "      <td>2006-12-31</td>\n",
       "      <td>65</td>\n",
       "      <td>2566</td>\n",
       "      <td>40645</td>\n",
       "      <td>151911</td>\n",
       "      <td>59.5</td>\n",
       "    </tr>\n",
       "    <tr>\n",
       "      <th>1</th>\n",
       "      <td>南京市</td>\n",
       "      <td>2007-12-31</td>\n",
       "      <td>51</td>\n",
       "      <td>3519</td>\n",
       "      <td>46306</td>\n",
       "      <td>196253</td>\n",
       "      <td>46.4</td>\n",
       "    </tr>\n",
       "    <tr>\n",
       "      <th>2</th>\n",
       "      <td>南京市</td>\n",
       "      <td>2008-12-31</td>\n",
       "      <td>188</td>\n",
       "      <td>4531</td>\n",
       "      <td>51454</td>\n",
       "      <td>237203</td>\n",
       "      <td>215.4</td>\n",
       "    </tr>\n",
       "    <tr>\n",
       "      <th>3</th>\n",
       "      <td>南京市</td>\n",
       "      <td>2009-12-31</td>\n",
       "      <td>89</td>\n",
       "      <td>6242</td>\n",
       "      <td>56035</td>\n",
       "      <td>239199</td>\n",
       "      <td>97.0</td>\n",
       "    </tr>\n",
       "    <tr>\n",
       "      <th>4</th>\n",
       "      <td>南京市</td>\n",
       "      <td>2010-12-31</td>\n",
       "      <td>141</td>\n",
       "      <td>8637</td>\n",
       "      <td>66132</td>\n",
       "      <td>281601</td>\n",
       "      <td>101.8</td>\n",
       "    </tr>\n",
       "  </tbody>\n",
       "</table>\n",
       "</div>"
      ]
     },
     "execution_count": 28,
     "metadata": {},
     "output_type": "execute_result"
    }
   ],
   "execution_count": 28
  },
  {
   "metadata": {
    "ExecuteTime": {
     "end_time": "2024-07-09T11:56:59.710658Z",
     "start_time": "2024-07-09T11:56:59.677653Z"
    }
   },
   "cell_type": "code",
   "source": [
    "#描述性统计\n",
    "data[['TIP', 'STA', 'ECO', 'FDI','SDC']].describe()"
   ],
   "id": "7665518ffc6cbc7",
   "outputs": [
    {
     "data": {
      "text/plain": [
       "                 TIP         STA            ECO            FDI         SDC\n",
       "count     221.000000  221.000000     221.000000     221.000000  221.000000\n",
       "mean    18938.615385   36.701357   79931.348416  213155.723982   37.550679\n",
       "std     25843.327755   57.303192   43378.164660  180668.154773   51.511055\n",
       "min        89.000000    0.000000    9790.000000    4858.000000    0.000000\n",
       "25%      4092.000000    3.000000   45384.000000   93528.000000    5.100000\n",
       "50%     10102.000000   12.000000   74908.000000  150731.000000   17.000000\n",
       "75%     23828.000000   42.000000  110709.000000  281601.000000   46.400000\n",
       "max    185160.000000  302.000000  197065.000000  916490.000000  275.600000"
      ],
      "text/html": [
       "<div>\n",
       "<style scoped>\n",
       "    .dataframe tbody tr th:only-of-type {\n",
       "        vertical-align: middle;\n",
       "    }\n",
       "\n",
       "    .dataframe tbody tr th {\n",
       "        vertical-align: top;\n",
       "    }\n",
       "\n",
       "    .dataframe thead th {\n",
       "        text-align: right;\n",
       "    }\n",
       "</style>\n",
       "<table border=\"1\" class=\"dataframe\">\n",
       "  <thead>\n",
       "    <tr style=\"text-align: right;\">\n",
       "      <th></th>\n",
       "      <th>TIP</th>\n",
       "      <th>STA</th>\n",
       "      <th>ECO</th>\n",
       "      <th>FDI</th>\n",
       "      <th>SDC</th>\n",
       "    </tr>\n",
       "  </thead>\n",
       "  <tbody>\n",
       "    <tr>\n",
       "      <th>count</th>\n",
       "      <td>221.000000</td>\n",
       "      <td>221.000000</td>\n",
       "      <td>221.000000</td>\n",
       "      <td>221.000000</td>\n",
       "      <td>221.000000</td>\n",
       "    </tr>\n",
       "    <tr>\n",
       "      <th>mean</th>\n",
       "      <td>18938.615385</td>\n",
       "      <td>36.701357</td>\n",
       "      <td>79931.348416</td>\n",
       "      <td>213155.723982</td>\n",
       "      <td>37.550679</td>\n",
       "    </tr>\n",
       "    <tr>\n",
       "      <th>std</th>\n",
       "      <td>25843.327755</td>\n",
       "      <td>57.303192</td>\n",
       "      <td>43378.164660</td>\n",
       "      <td>180668.154773</td>\n",
       "      <td>51.511055</td>\n",
       "    </tr>\n",
       "    <tr>\n",
       "      <th>min</th>\n",
       "      <td>89.000000</td>\n",
       "      <td>0.000000</td>\n",
       "      <td>9790.000000</td>\n",
       "      <td>4858.000000</td>\n",
       "      <td>0.000000</td>\n",
       "    </tr>\n",
       "    <tr>\n",
       "      <th>25%</th>\n",
       "      <td>4092.000000</td>\n",
       "      <td>3.000000</td>\n",
       "      <td>45384.000000</td>\n",
       "      <td>93528.000000</td>\n",
       "      <td>5.100000</td>\n",
       "    </tr>\n",
       "    <tr>\n",
       "      <th>50%</th>\n",
       "      <td>10102.000000</td>\n",
       "      <td>12.000000</td>\n",
       "      <td>74908.000000</td>\n",
       "      <td>150731.000000</td>\n",
       "      <td>17.000000</td>\n",
       "    </tr>\n",
       "    <tr>\n",
       "      <th>75%</th>\n",
       "      <td>23828.000000</td>\n",
       "      <td>42.000000</td>\n",
       "      <td>110709.000000</td>\n",
       "      <td>281601.000000</td>\n",
       "      <td>46.400000</td>\n",
       "    </tr>\n",
       "    <tr>\n",
       "      <th>max</th>\n",
       "      <td>185160.000000</td>\n",
       "      <td>302.000000</td>\n",
       "      <td>197065.000000</td>\n",
       "      <td>916490.000000</td>\n",
       "      <td>275.600000</td>\n",
       "    </tr>\n",
       "  </tbody>\n",
       "</table>\n",
       "</div>"
      ]
     },
     "execution_count": 29,
     "metadata": {},
     "output_type": "execute_result"
    }
   ],
   "execution_count": 29
  },
  {
   "metadata": {
    "ExecuteTime": {
     "end_time": "2024-07-09T11:57:00.653374Z",
     "start_time": "2024-07-09T11:57:00.630374Z"
    }
   },
   "cell_type": "code",
   "source": [
    "#相关性分析,pearson相关系数\n",
    "corr=data[['TIP', 'STA', 'ECO', 'FDI','SDC']].corr(method='pearson')\n",
    "corr"
   ],
   "id": "ef0b7ce942432105",
   "outputs": [
    {
     "data": {
      "text/plain": [
       "          TIP       STA       ECO       FDI       SDC\n",
       "TIP  1.000000  0.718513  0.737851  0.693523  0.738795\n",
       "STA  0.718513  1.000000  0.608822  0.603228  0.928993\n",
       "ECO  0.737851  0.608822  1.000000  0.509902  0.574568\n",
       "FDI  0.693523  0.603228  0.509902  1.000000  0.718090\n",
       "SDC  0.738795  0.928993  0.574568  0.718090  1.000000"
      ],
      "text/html": [
       "<div>\n",
       "<style scoped>\n",
       "    .dataframe tbody tr th:only-of-type {\n",
       "        vertical-align: middle;\n",
       "    }\n",
       "\n",
       "    .dataframe tbody tr th {\n",
       "        vertical-align: top;\n",
       "    }\n",
       "\n",
       "    .dataframe thead th {\n",
       "        text-align: right;\n",
       "    }\n",
       "</style>\n",
       "<table border=\"1\" class=\"dataframe\">\n",
       "  <thead>\n",
       "    <tr style=\"text-align: right;\">\n",
       "      <th></th>\n",
       "      <th>TIP</th>\n",
       "      <th>STA</th>\n",
       "      <th>ECO</th>\n",
       "      <th>FDI</th>\n",
       "      <th>SDC</th>\n",
       "    </tr>\n",
       "  </thead>\n",
       "  <tbody>\n",
       "    <tr>\n",
       "      <th>TIP</th>\n",
       "      <td>1.000000</td>\n",
       "      <td>0.718513</td>\n",
       "      <td>0.737851</td>\n",
       "      <td>0.693523</td>\n",
       "      <td>0.738795</td>\n",
       "    </tr>\n",
       "    <tr>\n",
       "      <th>STA</th>\n",
       "      <td>0.718513</td>\n",
       "      <td>1.000000</td>\n",
       "      <td>0.608822</td>\n",
       "      <td>0.603228</td>\n",
       "      <td>0.928993</td>\n",
       "    </tr>\n",
       "    <tr>\n",
       "      <th>ECO</th>\n",
       "      <td>0.737851</td>\n",
       "      <td>0.608822</td>\n",
       "      <td>1.000000</td>\n",
       "      <td>0.509902</td>\n",
       "      <td>0.574568</td>\n",
       "    </tr>\n",
       "    <tr>\n",
       "      <th>FDI</th>\n",
       "      <td>0.693523</td>\n",
       "      <td>0.603228</td>\n",
       "      <td>0.509902</td>\n",
       "      <td>1.000000</td>\n",
       "      <td>0.718090</td>\n",
       "    </tr>\n",
       "    <tr>\n",
       "      <th>SDC</th>\n",
       "      <td>0.738795</td>\n",
       "      <td>0.928993</td>\n",
       "      <td>0.574568</td>\n",
       "      <td>0.718090</td>\n",
       "      <td>1.000000</td>\n",
       "    </tr>\n",
       "  </tbody>\n",
       "</table>\n",
       "</div>"
      ]
     },
     "execution_count": 30,
     "metadata": {},
     "output_type": "execute_result"
    }
   ],
   "execution_count": 30
  },
  {
   "metadata": {
    "ExecuteTime": {
     "end_time": "2024-07-09T07:36:54.014023Z",
     "start_time": "2024-07-09T07:36:53.734514Z"
    }
   },
   "cell_type": "code",
   "source": [
    "#绘制热力图,灰白色越深代表相关性越大\n",
    "plt.figure(figsize=(10, 8))\n",
    "sns.heatmap(corr, annot=True, cmap='grey')\n",
    "plt.show()\n"
   ],
   "id": "5a8ea1161dd989fa",
   "outputs": [
    {
     "data": {
      "text/plain": [
       "<Figure size 1000x800 with 2 Axes>"
      ],
      "image/png": "[encoded data removed]"
     },
     "metadata": {},
     "output_type": "display_data"
    }
   ],
   "execution_count": 22
  },
  {
   "metadata": {
    "ExecuteTime": {
     "end_time": "2024-07-09T07:36:54.406537Z",
     "start_time": "2024-07-09T07:36:54.371539Z"
    }
   },
   "cell_type": "code",
   "source": [
    "#pearson相关系数\n",
    "#变量之间的相关性\n",
    "data_col=data[['TIP', 'STA', 'ECO', 'FDI','SDC']]\n",
    "from scipy.stats import pearsonr\n",
    "for i in data_col.columns:\n",
    "    for j in data_col.columns:\n",
    "        if i != j:\n",
    "            print(i, j, pearsonr(data[i], data[j]))\n",
    "    \n"
   ],
   "id": "b11373c6d45a365b",
   "outputs": [
    {
     "name": "stdout",
     "output_type": "stream",
     "text": [
      "TIP STA PearsonRResult(statistic=0.6476710441269551, pvalue=1.1359330713213348e-27)\n",
      "TIP ECO PearsonRResult(statistic=0.7981715957079959, pvalue=4.2421205703781666e-50)\n",
      "TIP FDI PearsonRResult(statistic=0.7367187625771036, pvalue=4.452873212813683e-39)\n",
      "TIP SDC PearsonRResult(statistic=0.695172495997832, pvalue=3.0896136723702074e-33)\n",
      "STA TIP PearsonRResult(statistic=0.6476710441269551, pvalue=1.1359330713213348e-27)\n",
      "STA ECO PearsonRResult(statistic=0.5607981248591226, pvalue=1.050576908684789e-19)\n",
      "STA FDI PearsonRResult(statistic=0.6666180778655867, pvalue=9.08086652255826e-30)\n",
      "STA SDC PearsonRResult(statistic=0.9405637956303639, pvalue=1.1073317818794606e-104)\n",
      "ECO TIP PearsonRResult(statistic=0.7981715957079959, pvalue=4.2421205703781666e-50)\n",
      "ECO STA PearsonRResult(statistic=0.5607981248591226, pvalue=1.050576908684789e-19)\n",
      "ECO FDI PearsonRResult(statistic=0.5950011430517377, pvalue=1.4849416206212176e-22)\n",
      "ECO SDC PearsonRResult(statistic=0.5502790372373549, pvalue=6.813652209632655e-19)\n",
      "FDI TIP PearsonRResult(statistic=0.7367187625771036, pvalue=4.452873212813683e-39)\n",
      "FDI STA PearsonRResult(statistic=0.6666180778655867, pvalue=9.08086652255826e-30)\n",
      "FDI ECO PearsonRResult(statistic=0.5950011430517377, pvalue=1.4849416206212176e-22)\n",
      "FDI SDC PearsonRResult(statistic=0.740722833993802, pvalue=1.0642566661645934e-39)\n",
      "SDC TIP PearsonRResult(statistic=0.695172495997832, pvalue=3.0896136723702074e-33)\n",
      "SDC STA PearsonRResult(statistic=0.9405637956303639, pvalue=1.1073317818794606e-104)\n",
      "SDC ECO PearsonRResult(statistic=0.5502790372373549, pvalue=6.813652209632655e-19)\n",
      "SDC FDI PearsonRResult(statistic=0.740722833993802, pvalue=1.0642566661645934e-39)\n"
     ]
    }
   ],
   "execution_count": 23
  },
  {
   "metadata": {
    "ExecuteTime": {
     "end_time": "2024-07-09T07:36:54.641082Z",
     "start_time": "2024-07-09T07:36:54.591578Z"
    }
   },
   "cell_type": "code",
   "source": [
    "import pandas as pd\n",
    "from linearmodels.system import IV3SLS\n",
    "from sklearn.metrics import r2_score\n",
    "# 为每个方程指定公式\n",
    "formulas = {\n",
    "    'TIP': 'TIP ~ 1 + STA + ECO + FDI',\n",
    "    'STA': 'STA ~ 1 + TIP + ECO + SDC'\n",
    "}\n",
    "\n",
    "# 将数据转换为长格式并添加固定效应\n",
    "data_long = pd.get_dummies(data, columns=['City', 'Year'], drop_first=False)#将分类变量转换为哑变量\n",
    "\n",
    "# 定义3SLS模型\n",
    "mod = IV3SLS.from_formula(formulas, data_long)\n",
    "\n",
    "# 拟合模型\n",
    "res = mod.fit()\n",
    "\n",
    "# 输出结果\n",
    "print(res.summary)\n",
    "\n"
   ],
   "id": "a4441e8a0d9ae1fd",
   "outputs": [
    {
     "name": "stdout",
     "output_type": "stream",
     "text": [
      "                           System GLS Estimation Summary                           \n",
      "===================================================================================\n",
      "Estimator:                        GLS   Overall R-squared:                   0.7514\n",
      "No. Equations.:                     2   McElroy's R-squared:                 0.8509\n",
      "No. Observations:                 221   Judge's (OLS) R-squared:             0.7514\n",
      "Date:                Tue, Jul 09 2024   Berndt's R-squared:                  0.9534\n",
      "Time:                        15:36:54   Dhrymes's R-squared:                 0.7514\n",
      "                                        Cov. Estimator:                      robust\n",
      "                                        Num. Constraints:                      None\n",
      "                    Equation: TIP, Dependent Variable: TIP                    \n",
      "==============================================================================\n",
      "            Parameter  Std. Err.     T-stat    P-value    Lower CI    Upper CI\n",
      "------------------------------------------------------------------------------\n",
      "Intercept  -1.346e+04     1313.6    -10.245     0.0000  -1.603e+04  -1.088e+04\n",
      "STA            62.391     31.682     1.9693     0.0489      0.2946      124.49\n",
      "ECO            0.2464     0.0213     11.567     0.0000      0.2046      0.2881\n",
      "FDI            0.0468     0.0133     3.5292     0.0004      0.0208      0.0728\n",
      "                    Equation: STA, Dependent Variable: STA                    \n",
      "==============================================================================\n",
      "            Parameter  Std. Err.     T-stat    P-value    Lower CI    Upper CI\n",
      "------------------------------------------------------------------------------\n",
      "Intercept     -6.9047     2.1394    -3.2274     0.0012     -11.098     -2.7115\n",
      "TIP           -0.0002     0.0001    -1.5618     0.1183     -0.0005   5.793e-05\n",
      "ECO            0.0001   4.32e-05     2.9353     0.0033   4.213e-05      0.0002\n",
      "SDC            0.9662     0.0637     15.157     0.0000      0.8413      1.0911\n",
      "==============================================================================\n",
      "\n",
      "Covariance Estimator:\n",
      "Heteroskedastic (Robust) Covariance (Debiased: False, GLS: True)\n"
     ]
    }
   ],
   "execution_count": 24
  },
  {
   "metadata": {
    "ExecuteTime": {
     "end_time": "2024-07-09T07:36:54.782260Z",
     "start_time": "2024-07-09T07:36:54.759386Z"
    }
   },
   "cell_type": "code",
   "source": [
    "# 提取拟合值\n",
    "fitted_values = res.fitted_values\n",
    "\n",
    "# 计算R²值\n",
    "r2_tip = r2_score(data_long['TIP'], fitted_values['TIP'])\n",
    "r2_sta = r2_score(data_long['STA'], fitted_values['STA'])\n",
    "\n",
    "# 输出R²值\n",
    "print(f'R² for TIP: {r2_tip:.3f}')\n",
    "print(f'R² for STA: {r2_sta:.3f}')"
   ],
   "id": "378f052a1fcfe339",
   "outputs": [
    {
     "name": "stdout",
     "output_type": "stream",
     "text": [
      "R² for TIP: 0.751\n",
      "R² for STA: 0.891\n"
     ]
    }
   ],
   "execution_count": 25
  },
  {
   "metadata": {
    "ExecuteTime": {
     "end_time": "2024-07-09T04:27:03.313073Z",
     "start_time": "2024-07-09T04:27:03.299595Z"
    }
   },
   "cell_type": "code",
   "source": "",
   "id": "3da5ee69373e10c2",
   "outputs": [],
   "execution_count": 18
  }
 ],
 "metadata": {
  "kernelspec": {
   "display_name": "Python [conda env:origin]",
   "language": "python",
   "name": "conda-env-origin-py"
  },
  "language_info": {
   "codemirror_mode": {
    "name": "ipython",
    "version": 2
   },
   "file_extension": ".py",
   "mimetype": "text/x-python",
   "name": "python",
   "nbconvert_exporter": "python",
   "pygments_lexer": "ipython2",
   "version": "2.7.6"
  }
 },
 "nbformat": 4,
 "nbformat_minor": 5
}
