{
 "cells": [
  {
   "cell_type": "code",
   "id": "initial_id",
   "metadata": {
    "collapsed": true,
    "ExecuteTime": {
     "end_time": "2024-07-08T09:19:41.483660Z",
     "start_time": "2024-07-08T09:19:41.455573Z"
    }
   },
   "source": [
    "import pandas as pd\n",
    "import matplotlib.pyplot as plt\n",
    "import numpy as np\n",
    "import seaborn as sns\n",
    "import openpyxl\n",
    "\n",
    "import warnings\n",
    "\n",
    "# Suppress FutureWarnings from the linearmodels package\n",
    "warnings.filterwarnings(\"ignore\", category=FutureWarning, module=\"linearmodels.*\")\n",
    "\n",
    "# Your existing code here\n",
    "# 设置支持中文显示\n",
    "plt.rcParams['font.sans-serif'] = ['SimHei']\n",
    "plt.rcParams['axes.unicode_minus'] = False\n",
    "rc = {'font.sans-serif': 'SimHei',\n",
    "      'axes.unicode_minus': False}  # 用来正常显示中文标签\n",
    "# 设置学术化的图片风格\n",
    "sns.set_style(\"whitegrid\", rc=rc)  #设置绘图风格\n",
    "sns.set_palette(\"hls\")  #设置颜色主题\n",
    "sns.set_context(\"paper\")  #设置绘图元素缩放比例\n",
    "data = pd.read_csv('data/data_diff.csv')\n",
    "data['City'] = data['City'].astype('category')\n",
    "data['Year'] = data['Year'].astype('category')\n",
    "data.head()"
   ],
   "outputs": [
    {
     "data": {
      "text/plain": [
       "  City        Year    STA     TIP      ECO      FDI\n",
       "0  南京市  2007-12-31  -14.0   953.0   5661.0  44342.0\n",
       "1  南京市  2008-12-31  137.0  1012.0   5148.0  40950.0\n",
       "2  南京市  2009-12-31  -99.0  1711.0   4581.0   1996.0\n",
       "3  南京市  2010-12-31   52.0  2395.0  10097.0  42402.0\n",
       "4  南京市  2011-12-31  -33.0  2997.0   9438.0  74987.0"
      ],
      "text/html": [
       "<div>\n",
       "<style scoped>\n",
       "    .dataframe tbody tr th:only-of-type {\n",
       "        vertical-align: middle;\n",
       "    }\n",
       "\n",
       "    .dataframe tbody tr th {\n",
       "        vertical-align: top;\n",
       "    }\n",
       "\n",
       "    .dataframe thead th {\n",
       "        text-align: right;\n",
       "    }\n",
       "</style>\n",
       "<table border=\"1\" class=\"dataframe\">\n",
       "  <thead>\n",
       "    <tr style=\"text-align: right;\">\n",
       "      <th></th>\n",
       "      <th>City</th>\n",
       "      <th>Year</th>\n",
       "      <th>STA</th>\n",
       "      <th>TIP</th>\n",
       "      <th>ECO</th>\n",
       "      <th>FDI</th>\n",
       "    </tr>\n",
       "  </thead>\n",
       "  <tbody>\n",
       "    <tr>\n",
       "      <th>0</th>\n",
       "      <td>南京市</td>\n",
       "      <td>2007-12-31</td>\n",
       "      <td>-14.0</td>\n",
       "      <td>953.0</td>\n",
       "      <td>5661.0</td>\n",
       "      <td>44342.0</td>\n",
       "    </tr>\n",
       "    <tr>\n",
       "      <th>1</th>\n",
       "      <td>南京市</td>\n",
       "      <td>2008-12-31</td>\n",
       "      <td>137.0</td>\n",
       "      <td>1012.0</td>\n",
       "      <td>5148.0</td>\n",
       "      <td>40950.0</td>\n",
       "    </tr>\n",
       "    <tr>\n",
       "      <th>2</th>\n",
       "      <td>南京市</td>\n",
       "      <td>2009-12-31</td>\n",
       "      <td>-99.0</td>\n",
       "      <td>1711.0</td>\n",
       "      <td>4581.0</td>\n",
       "      <td>1996.0</td>\n",
       "    </tr>\n",
       "    <tr>\n",
       "      <th>3</th>\n",
       "      <td>南京市</td>\n",
       "      <td>2010-12-31</td>\n",
       "      <td>52.0</td>\n",
       "      <td>2395.0</td>\n",
       "      <td>10097.0</td>\n",
       "      <td>42402.0</td>\n",
       "    </tr>\n",
       "    <tr>\n",
       "      <th>4</th>\n",
       "      <td>南京市</td>\n",
       "      <td>2011-12-31</td>\n",
       "      <td>-33.0</td>\n",
       "      <td>2997.0</td>\n",
       "      <td>9438.0</td>\n",
       "      <td>74987.0</td>\n",
       "    </tr>\n",
       "  </tbody>\n",
       "</table>\n",
       "</div>"
      ]
     },
     "execution_count": 63,
     "metadata": {},
     "output_type": "execute_result"
    }
   ],
   "execution_count": 63
  },
  {
   "metadata": {
    "ExecuteTime": {
     "end_time": "2024-07-08T09:19:45.604762Z",
     "start_time": "2024-07-08T09:19:45.593423Z"
    }
   },
   "cell_type": "code",
   "source": [
    "import rpy2.robjects as robjects\n",
    "from rpy2.robjects import pandas2ri\n",
    "from rpy2.robjects.packages import importr"
   ],
   "id": "2b5b3bcb2595ce9",
   "outputs": [],
   "execution_count": 65
  },
  {
   "metadata": {
    "ExecuteTime": {
     "end_time": "2024-07-08T09:19:46.121307Z",
     "start_time": "2024-07-08T09:19:45.842108Z"
    }
   },
   "cell_type": "code",
   "source": [
    "# 启用 pandas 和 R 之间的数据框转换\n",
    "pandas2ri.activate()\n",
    "\n",
    "# 导入 R 中的相关包\n",
    "plm = importr('plm')\n",
    "base = importr('base')"
   ],
   "id": "7afa95b79975c8b3",
   "outputs": [],
   "execution_count": 66
  },
  {
   "metadata": {
    "ExecuteTime": {
     "end_time": "2024-07-08T09:22:53.935685Z",
     "start_time": "2024-07-08T09:22:53.930689Z"
    }
   },
   "cell_type": "code",
   "source": [
    "r_data = pandas2ri.py2ri(data)\n",
    "robjects.globalenv['r_data'] = r_data"
   ],
   "id": "19c121928fa07f2",
   "outputs": [],
   "execution_count": 72
  },
  {
   "metadata": {
    "ExecuteTime": {
     "end_time": "2024-07-08T09:19:46.867220Z",
     "start_time": "2024-07-08T09:19:46.844714Z"
    }
   },
   "cell_type": "code",
   "source": [
    "# 将面板数据转换为时间序列对象\n",
    "pdata = plm.pdata_frame(r_data, index=robjects.vectors.StrVector(['City', 'Year']))\n",
    "robjects.globalenv['pdata'] = pdata\n",
    "\n",
    "# 进行levinlin检验\n",
    "levinlin_test_result = plm.purtest(pdata.rx2('TIP'), test='levinlin')\n",
    "print(levinlin_test_result)\n",
    "\n",
    "\n"
   ],
   "id": "96cb543fa92e7336",
   "outputs": [
    {
     "ename": "RRuntimeError",
     "evalue": "Error in .urcval(arg = q[i], nobs = n.sample, niv = 1, itt = itt, itv = itv,  : \n  NA/NaN/Inf in foreign function call (arg 6)\n",
     "output_type": "error",
     "traceback": [
      "\u001B[1;31m---------------------------------------------------------------------------\u001B[0m",
      "\u001B[1;31mRRuntimeError\u001B[0m                             Traceback (most recent call last)",
      "\u001B[1;32m~\\AppData\\Local\\Temp\\ipykernel_5336\\3855464534.py\u001B[0m in \u001B[0;36m<module>\u001B[1;34m\u001B[0m\n\u001B[0;32m      4\u001B[0m \u001B[1;33m\u001B[0m\u001B[0m\n\u001B[0;32m      5\u001B[0m \u001B[1;31m# 进行Breitung检验\u001B[0m\u001B[1;33m\u001B[0m\u001B[1;33m\u001B[0m\u001B[1;33m\u001B[0m\u001B[0m\n\u001B[1;32m----> 6\u001B[1;33m \u001B[0mbreitung_test_result\u001B[0m \u001B[1;33m=\u001B[0m \u001B[0mplm\u001B[0m\u001B[1;33m.\u001B[0m\u001B[0mpurtest\u001B[0m\u001B[1;33m(\u001B[0m\u001B[0mpdata\u001B[0m\u001B[1;33m.\u001B[0m\u001B[0mrx2\u001B[0m\u001B[1;33m(\u001B[0m\u001B[1;34m'TIP'\u001B[0m\u001B[1;33m)\u001B[0m\u001B[1;33m,\u001B[0m \u001B[0mtest\u001B[0m\u001B[1;33m=\u001B[0m\u001B[1;34m'levinlin'\u001B[0m\u001B[1;33m)\u001B[0m\u001B[1;33m\u001B[0m\u001B[1;33m\u001B[0m\u001B[0m\n\u001B[0m\u001B[0;32m      7\u001B[0m \u001B[0mprint\u001B[0m\u001B[1;33m(\u001B[0m\u001B[0mbreitung_test_result\u001B[0m\u001B[1;33m)\u001B[0m\u001B[1;33m\u001B[0m\u001B[1;33m\u001B[0m\u001B[0m\n\u001B[0;32m      8\u001B[0m \u001B[1;33m\u001B[0m\u001B[0m\n",
      "\u001B[1;32mD:\\ProgramData\\anaconda3\\envs\\RStudio\\lib\\site-packages\\rpy2\\robjects\\functions.py\u001B[0m in \u001B[0;36m__call__\u001B[1;34m(self, *args, **kwargs)\u001B[0m\n\u001B[0;32m    176\u001B[0m                 \u001B[0mv\u001B[0m \u001B[1;33m=\u001B[0m \u001B[0mkwargs\u001B[0m\u001B[1;33m.\u001B[0m\u001B[0mpop\u001B[0m\u001B[1;33m(\u001B[0m\u001B[0mk\u001B[0m\u001B[1;33m)\u001B[0m\u001B[1;33m\u001B[0m\u001B[1;33m\u001B[0m\u001B[0m\n\u001B[0;32m    177\u001B[0m                 \u001B[0mkwargs\u001B[0m\u001B[1;33m[\u001B[0m\u001B[0mr_k\u001B[0m\u001B[1;33m]\u001B[0m \u001B[1;33m=\u001B[0m \u001B[0mv\u001B[0m\u001B[1;33m\u001B[0m\u001B[1;33m\u001B[0m\u001B[0m\n\u001B[1;32m--> 178\u001B[1;33m         \u001B[1;32mreturn\u001B[0m \u001B[0msuper\u001B[0m\u001B[1;33m(\u001B[0m\u001B[0mSignatureTranslatedFunction\u001B[0m\u001B[1;33m,\u001B[0m \u001B[0mself\u001B[0m\u001B[1;33m)\u001B[0m\u001B[1;33m.\u001B[0m\u001B[0m__call__\u001B[0m\u001B[1;33m(\u001B[0m\u001B[1;33m*\u001B[0m\u001B[0margs\u001B[0m\u001B[1;33m,\u001B[0m \u001B[1;33m**\u001B[0m\u001B[0mkwargs\u001B[0m\u001B[1;33m)\u001B[0m\u001B[1;33m\u001B[0m\u001B[1;33m\u001B[0m\u001B[0m\n\u001B[0m\u001B[0;32m    179\u001B[0m \u001B[1;33m\u001B[0m\u001B[0m\n\u001B[0;32m    180\u001B[0m \u001B[0mpattern_link\u001B[0m \u001B[1;33m=\u001B[0m \u001B[0mre\u001B[0m\u001B[1;33m.\u001B[0m\u001B[0mcompile\u001B[0m\u001B[1;33m(\u001B[0m\u001B[1;34mr'\\\\link\\{(.+?)\\}'\u001B[0m\u001B[1;33m)\u001B[0m\u001B[1;33m\u001B[0m\u001B[1;33m\u001B[0m\u001B[0m\n",
      "\u001B[1;32mD:\\ProgramData\\anaconda3\\envs\\RStudio\\lib\\site-packages\\rpy2\\robjects\\functions.py\u001B[0m in \u001B[0;36m__call__\u001B[1;34m(self, *args, **kwargs)\u001B[0m\n\u001B[0;32m    104\u001B[0m         \u001B[1;32mfor\u001B[0m \u001B[0mk\u001B[0m\u001B[1;33m,\u001B[0m \u001B[0mv\u001B[0m \u001B[1;32min\u001B[0m \u001B[0mkwargs\u001B[0m\u001B[1;33m.\u001B[0m\u001B[0mitems\u001B[0m\u001B[1;33m(\u001B[0m\u001B[1;33m)\u001B[0m\u001B[1;33m:\u001B[0m\u001B[1;33m\u001B[0m\u001B[1;33m\u001B[0m\u001B[0m\n\u001B[0;32m    105\u001B[0m             \u001B[0mnew_kwargs\u001B[0m\u001B[1;33m[\u001B[0m\u001B[0mk\u001B[0m\u001B[1;33m]\u001B[0m \u001B[1;33m=\u001B[0m \u001B[0mconversion\u001B[0m\u001B[1;33m.\u001B[0m\u001B[0mpy2ri\u001B[0m\u001B[1;33m(\u001B[0m\u001B[0mv\u001B[0m\u001B[1;33m)\u001B[0m\u001B[1;33m\u001B[0m\u001B[1;33m\u001B[0m\u001B[0m\n\u001B[1;32m--> 106\u001B[1;33m         \u001B[0mres\u001B[0m \u001B[1;33m=\u001B[0m \u001B[0msuper\u001B[0m\u001B[1;33m(\u001B[0m\u001B[0mFunction\u001B[0m\u001B[1;33m,\u001B[0m \u001B[0mself\u001B[0m\u001B[1;33m)\u001B[0m\u001B[1;33m.\u001B[0m\u001B[0m__call__\u001B[0m\u001B[1;33m(\u001B[0m\u001B[1;33m*\u001B[0m\u001B[0mnew_args\u001B[0m\u001B[1;33m,\u001B[0m \u001B[1;33m**\u001B[0m\u001B[0mnew_kwargs\u001B[0m\u001B[1;33m)\u001B[0m\u001B[1;33m\u001B[0m\u001B[1;33m\u001B[0m\u001B[0m\n\u001B[0m\u001B[0;32m    107\u001B[0m         \u001B[0mres\u001B[0m \u001B[1;33m=\u001B[0m \u001B[0mconversion\u001B[0m\u001B[1;33m.\u001B[0m\u001B[0mri2ro\u001B[0m\u001B[1;33m(\u001B[0m\u001B[0mres\u001B[0m\u001B[1;33m)\u001B[0m\u001B[1;33m\u001B[0m\u001B[1;33m\u001B[0m\u001B[0m\n\u001B[0;32m    108\u001B[0m         \u001B[1;32mreturn\u001B[0m \u001B[0mres\u001B[0m\u001B[1;33m\u001B[0m\u001B[1;33m\u001B[0m\u001B[0m\n",
      "\u001B[1;31mRRuntimeError\u001B[0m: Error in .urcval(arg = q[i], nobs = n.sample, niv = 1, itt = itt, itv = itv,  : \n  NA/NaN/Inf in foreign function call (arg 6)\n"
     ]
    }
   ],
   "execution_count": 68
  },
  {
   "metadata": {},
   "cell_type": "code",
   "source": "",
   "id": "6d8cbbd82e79c149",
   "outputs": [],
   "execution_count": null
  }
 ],
 "metadata": {
  "kernelspec": {
   "display_name": "Python [conda env:rstudio]",
   "language": "python",
   "name": "conda-env-rstudio-py"
  },
  "language_info": {
   "codemirror_mode": {
    "name": "ipython",
    "version": 2
   },
   "file_extension": ".py",
   "mimetype": "text/x-python",
   "name": "python",
   "nbconvert_exporter": "python",
   "pygments_lexer": "ipython2",
   "version": "2.7.6"
  }
 },
 "nbformat": 4,
 "nbformat_minor": 5
}
